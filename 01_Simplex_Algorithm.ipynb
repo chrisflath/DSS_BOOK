{
 "cells": [
  {
   "cell_type": "markdown",
   "id": "c22335cf",
   "metadata": {},
   "source": [
    "# Simplex Algorithm"
   ]
  },
  {
   "cell_type": "markdown",
   "id": "58e0f029",
   "metadata": {},
   "source": [
    "> “The simplex method is a method for solving problems in linear programming. This method, invented by George Dantzig in 1947, tests adjacent vertices of the feasible set (which is a polytope) in sequence so that at each new vertex the objective function improves or is unchanged.” (Wolfram MathWorld)"
   ]
  },
  {
   "cell_type": "markdown",
   "id": "2d0adc88",
   "metadata": {},
   "source": [
    "The underlying observation is that our linear program bears some resemblance with a linear equation system:\n",
    "\n",
    "$\\mathbf{x} \\leq \\mathbf{b} \\leftrightarrow \\mathbf{x} +  \\mathbf{s} =  \\mathbf{b} \\text{ with }  \\mathbf{s} \\geq 0$"
   ]
  },
  {
   "cell_type": "markdown",
   "id": "dfc5e30b",
   "metadata": {},
   "source": [
    "If there are n+m variables in a system of m equations (where n>m),\n",
    "by setting n variables to zero we can use the remaining m variables and solve the equations."
   ]
  },
  {
   "cell_type": "markdown",
   "id": "f5f0c0c1",
   "metadata": {},
   "source": [
    "## Identifying solution candidates: Basic Solution\n",
    "For LP problems in normal form with 𝑚 linear inequalities with 𝑛 variables a basic solution is obtained by setting any 𝑛  of the 𝑛+𝑚 variables to zero and solving for the remaining 𝑚 variables\n",
    "the 𝑚 non-zero variables are called _basic variables_ the remaining 𝑛 zero-valued variables are called _non-basic variables_. In general, there are at most $\\binom{m+n}{n}$ basic solutions (some may not feasible).\n",
    "\n",
    "**In our toy factory example:**\n",
    "* Heuristic solution: 40 soldiers, 20 trains, 20 units of carpenting leftover (0 leftover finishing, 0 leftover production allowance for soldiers)\n",
    "* No leftover carpenting, no leftover finishing\n",
    "* No leftover carpenting, no leftover allowance\n",
    "* Produce nothing\n",
    "* produce no soldiers with no carpenting left\n",
    "* produce no soldiers with no finishing left\n",
    "* produce no soldiers with no maxsoldiers left\n",
    "* produce no trains, no finishing left\n",
    "* produce no trains, no carpenting left\n",
    "* produce no trains, no maxsoldiers left …\n",
    "\n",
    "There are ten possible basic solutions, some are clearly not optimal (doing nothing) or infeasible (e.g., produce no soldiers with no maxsoldiers left). We could in principle solve the linear equation system for each configuration\n",
    "BUT: Computational cost would then grow exponentially in the number of variables."
   ]
  },
  {
   "cell_type": "markdown",
   "id": "2894fb75",
   "metadata": {},
   "source": [
    "## The Simplex Algorithm\n",
    "\n",
    "We need a more efficient way to fix basic variables - this boils down to looking at as few solution candidates as possible. Obvious improvements over the naive approach are taking into account profitability (improvement of objective) and feasibility of alternative basic solutions. This is the basic idea of the Simplex algorithm.\n",
    "\n",
    "The simplex procedure constantly improves the current solution until an optimum is found. The high level flowchart is presented below:\n",
    "\n",
    "<img src=\"https://user-images.githubusercontent.com/493486/146375891-4c3e062d-77ed-47ea-9159-df8f35106adb.png\" alt=\"Drawing\" style=\"width: 300px;\"/>"
   ]
  },
  {
   "cell_type": "markdown",
   "id": "04ba2561",
   "metadata": {},
   "source": [
    "After the setting up the initial tableau the algorithm enters a loop conditional on the current solution being not optimal. Each algorithm iteration then proceeds by determining the pivot column (new basic variable to be included) and row (current basic variable to be removed) such that the the greatest improvement of the objective value is realized. The indidivudal steps are as follows:\n",
    "\n",
    "* Build tableau: Convert the LP problem to standard form by transforming the objective function and constraints to equality.\n",
    "* Check optimality: Check if all values in the bottom row are none-negative. If this is the case, the optimal solution is found. If not, continue to the next step.\n",
    "* Find pivot column: Determine the pivot column by locating the most negative value in the bottom row.\n",
    "* Find pivot row: Determine the pivot row by dividing the right-hand side values of the constraints by the corresponding value in the pivot column. Select the smallest positive value.\n",
    "* Pivoting: Transform the pivot element to 1 and modify the matrix such that all other the values in the pivot column become 0.\n",
    "\n",
    "In the following we will provide detailed information (and an implementation example) on the different steps:"
   ]
  },
  {
   "cell_type": "markdown",
   "id": "3cf86ade",
   "metadata": {},
   "source": [
    "## Setting up the initial tableau\n",
    "\n",
    "We are given a linear program in standard form:\n",
    "\n",
    "$\\max \\mathbf{c}^T \\mathbf{x}$   s.t.   $A\\mathbf{x}\\leq \\mathbf{b}$,  $\\mathbf{x} \\geq 0$\n",
    "\n",
    "### Preparation\n",
    "We then perform some straightforward manipulations to turn this system of inequalities into a linear equation system:\n",
    "\n",
    "* Transform objective function to equation by introducing a variable $f(\\mathbf{x})=\\mathbf{c}^T \\mathbf{x}$ for the objective value: $f(\\mathbf{x}) - \\mathbf{c}^T \\mathbf{x} = 0$\n",
    "* Transform constraints to equations by introducing positive slack variables:\n",
    "\n",
    "$a_{11}x_1 + a_{12}x_2 + ... + a_{1n}x_n \\leq b_1 \\leftrightarrow a_{11}x_1 + a_{12}x_2 + ... + a_{1n}x_n + s_1 = b_1$\n",
    "\n",
    "$a_{21}x_1 + a_{22}x_2 + ... + a_{2n}x_n \\leq b_2 \\leftrightarrow a_{21}x_1 + a_{22}x_2 + ... + a_{2n}x_n + s_2 = b_2$\n",
    "\n",
    "$\\vdots$\n",
    "\n",
    "$a_{m1}x_1 + a_{m2}x_2 + ... + a_{mn}x_n \\leq b_m \\leftrightarrow a_{m1}x_1 + a_{m2}x_2 + ... + a_{mn}x_n + s_m = b_m$\n",
    "\n",
    "### Building the tableau\n",
    "The simplex tableau follows from these manipulations in a straightforward manner: Each row corresponds to one equation, the bottom row corresponds to the objective function. The first column is a label for the row, the subseuqent $n$ columns are labelled with the corresponding $x_i$ values, the next $m$ columns are labelled with the corresponding slack variables $x_j$ and the last column is the right-hand side $b$. In the initial tableau we assume all slack variables to be basic and they are labelled accordingly with $s_j$. Below this procedure is illustrated for an example with two variables and two constraints:\n",
    "\n",
    "|       | $$x_1$$    | $$x_2$$    | $$s_1$$ | $$s_2$$ | b     |\n",
    "|-------|------------|------------|---------|---------|-------|\n",
    "| $$s_1$$ | $$a_{11}$$ | $$a_{12}$$ | 1     | 0     | $$b_1$$ |\n",
    "| $$s_2$$ | $$a_{21}$$ | $$a_{22}$$ | 0     | 1     | $$b_2$$ |\n",
    "|         | $$-c_1$$    | $$-c_2$$    | 0     | 0     | 0       |\n",
    "\n",
    "And here is the initial tableau for our toy factory problem:\n",
    "\n",
    "|       | $$x_1$$    | $$x_2$$    | $$s_1$$ | $$s_2$$ | $$s_3$$ | b     |\n",
    "|-------|------------|------------|---------|---------|---------|-------|\n",
    "| $$s_1$$ | 1 | 1| 1     | 0     | 0     | $$80$$ |\n",
    "| $$s_2$$ | 2 |1 | 0     | 1     | 0     | $$100$$ |\n",
    "| $$s_3$$ | 1 |0 | 0     | 0    | 1     | $$40$$ |\n",
    "|         | $$-3$$    | $$-2$$    | 0     | 0     | 0       | 0       |\n",
    "\n",
    "### Some remarks on the tableau\n",
    "* The bottom right value is the objective value of the current solution (here 0)\n",
    "* For basic variables, the columns are all zero except for the row with the corresponding variable label (compare $s_1$, $s_2$, $s_3$)\n",
    "* For a solution to be feasible the b column must be non-negative\n",
    "\n",
    "\n",
    "### Python implementation\n",
    "This is easily implemented in Python using list operations:"
   ]
  },
  {
   "cell_type": "code",
   "execution_count": 68,
   "id": "c8001da1",
   "metadata": {},
   "outputs": [],
   "source": [
    "# general setup, definition of problem (toy factory)\n",
    "import numpy as np\n",
    "import math\n",
    "\n",
    "c = [3,2,0,0,0]\n",
    "A = [\n",
    "    [1, 1,1,0,0],\n",
    "    [ 2, 1,0,1,0],\n",
    "    [ 1,0,0,0,1]]\n",
    "b = [80,100,40]"
   ]
  },
  {
   "cell_type": "code",
   "execution_count": 69,
   "id": "284f5958",
   "metadata": {},
   "outputs": [],
   "source": [
    "# function to create a simplex tableau for a given objective coefficient vector, constraint matrix and right hand side\n",
    "def to_tableau(c, A, b):\n",
    "    xb = [eq + [x] for eq, x in zip(A, b)]\n",
    "    z = [i * -1 for i in c] + [0]\n",
    "    return xb + [z]"
   ]
  },
  {
   "cell_type": "code",
   "execution_count": 70,
   "id": "a57bb90c",
   "metadata": {},
   "outputs": [
    {
     "data": {
      "text/plain": [
       "[[1, 1, 1, 0, 0, 80],\n",
       " [2, 1, 0, 1, 0, 100],\n",
       " [1, 0, 0, 0, 1, 40],\n",
       " [-3, -2, 0, 0, 0, 0]]"
      ]
     },
     "execution_count": 70,
     "metadata": {},
     "output_type": "execute_result"
    }
   ],
   "source": [
    "# example tableau\n",
    "to_tableau(c, A, b)"
   ]
  },
  {
   "cell_type": "markdown",
   "id": "20772876",
   "metadata": {},
   "source": [
    "## Check optimality\n",
    "\n",
    "For non-basic variables, the bottom row in the tableau indicates how much the objective function can be increased by making this variable a basic variable. Note that given our $f(\\mathbf{x}) - \\mathbf{c}^T \\mathbf{x} = 0$ setup a negative value indicates a possible increase of the objective value.\n",
    "\n",
    "### Procedure\n",
    "In a maximization context we can then easily verify optimality by checking whether or not there are still negative values remaining. In our case this is clearly the case as the objective coefficient of the $x_1$ and $x_2$ columns are -3 and -2. Our current solution is hence not optimal but can be improved.\n",
    "\n",
    "### Python implementation\n",
    "A possible Python implementations looks as follows and yields the correct result for the optimality check:"
   ]
  },
  {
   "cell_type": "code",
   "execution_count": 71,
   "id": "40ba946e",
   "metadata": {},
   "outputs": [],
   "source": [
    "# function to check whether or not a given simplex tableau can be improved (is not optimal)\n",
    "def can_be_improved(tableau):\n",
    "    z = tableau[-1]\n",
    "    return any(x < 0 for x in z[:-1])\n",
    "    restrictions = []\n",
    "    for eq in tableau[:-1]:\n",
    "        el = eq[column]\n",
    "        restrictions.append(math.inf if el <= 0 else eq[-1] / el)\n",
    "\n",
    "    row = restrictions.index(min(restrictions))\n",
    "    return row, column"
   ]
  },
  {
   "cell_type": "code",
   "execution_count": 72,
   "id": "275a26a6",
   "metadata": {},
   "outputs": [
    {
     "data": {
      "text/plain": [
       "True"
      ]
     },
     "execution_count": 72,
     "metadata": {},
     "output_type": "execute_result"
    }
   ],
   "source": [
    "# test on our tableau\n",
    "can_be_improved(to_tableau(c, A, b))"
   ]
  },
  {
   "cell_type": "markdown",
   "id": "78acaaa7",
   "metadata": {},
   "source": [
    "## Determine pivot element\n",
    "\n",
    "### Determine pivot column\n",
    "Given a sub-optimal tableau the next simplex iteration seeks to improve the objective value. To this end we need to include a non-basic variable in the base which has a negative objective coefficient. In our example this is the case for both non-basic variables. In principle you could use any in such a setting - by convention we will take a greedy approach and pick the most negative one resulting in the greatest imminent improvement. Note that there is no garuantee that this is the best choice in general. However, it has proven to be a very good choice across many problem instances. In our example we choose the $x_1$ column with the most negative value -3.\n",
    "\n",
    "|       | $$x_1$$    | $$x_2$$    | $$s_1$$ | $$s_2$$ | $$s_3$$ | b     |\n",
    "|-------|------------|------------|---------|---------|---------|-------|\n",
    "| $$s_1$$ | **1** | 1| 1     | 0     | 0     | 80 |\n",
    "| $$s_2$$ | **2** |1 | 0     | 1     | 0     | 100 |\n",
    "| $$s_3$$ | **1** |0 | 0     | 0    | 1     | 40 |\n",
    "|         | **-3**    | -2    | 0     | 0     | 0       | 0       |\n",
    "\n",
    "### Determine pivot row\n",
    "Having identified the most promiment new basic variable, we need to identify the current basic variable which will be removed from the base in exchange. To this end, we compare the new variable's ''consumption'' of the constraints. We do so by dividing the b column by the values from the pivot column. This essentially yields a measure of how many units of the new basic variable can be afforded. The lowest b-divided-by-pivot value is the bottleneck and this row will be the pivot row. The combination of pivot column and pivot row is the pivot element. In our example this is the $s_3$ row with an allowable increase of 40. The interpretation is as follows: We can increase the number of toy soldiers ($x_1$) produced by at most 40 because then the max output constraint becomes binding. Note as soon as this constraint is binding the corresponding slack variable $s_3$ is zero which corresponds to a non-basic variable as intended!\n",
    "\n",
    "|       | $$x_1$$    | $$x_2$$    | $$s_1$$ | $$s_2$$ | $$s_3$$ | b     |b/pivot|\n",
    "|-------|------------|------------|---------|---------|---------|-------|-------|\n",
    "| $$s_1$$ | **1** | 1| 1     | 0     | 0     | 80$|80|\n",
    "| $$s_2$$ | **2** |1 | 0     | 1     | 0     | 100 |50\n",
    "| $$s_3$$ | **1** |**0** | **0**    | **0**    | **1**     | **40** |**40**|\n",
    "|         | **-3**    | -2    | 0     | 0     | 0       | 0       | |\n",
    "\n",
    "### Python implementation\n",
    "The Python implementation first finds the column. Subsequently, the restrictions are checked and the most restrictive is identified. The solution (2,0) uses zero indexing and essentially means third row, first column which corresponds to $s_3$ and $x_1$."
   ]
  },
  {
   "cell_type": "code",
   "execution_count": 73,
   "id": "f536549f",
   "metadata": {},
   "outputs": [],
   "source": [
    "# function to determine the pivot element location\n",
    "def get_pivot_position(tableau):\n",
    "    z = tableau[-1]\n",
    "    column = next(i for i, x in enumerate(z[:-1]) if x < 0)\n",
    "    \n",
    "    restrictions = []\n",
    "    for eq in tableau[:-1]:\n",
    "        el = eq[column]\n",
    "        restrictions.append(math.inf if el <= 0 else eq[-1] / el)\n",
    "\n",
    "    row = restrictions.index(min(restrictions))\n",
    "    return row, column"
   ]
  },
  {
   "cell_type": "code",
   "execution_count": 74,
   "id": "04ebcb07",
   "metadata": {},
   "outputs": [
    {
     "data": {
      "text/plain": [
       "(2, 0)"
      ]
     },
     "execution_count": 74,
     "metadata": {},
     "output_type": "execute_result"
    }
   ],
   "source": [
    "# test on our example\n",
    "get_pivot_position(to_tableau(c, A, b))"
   ]
  },
  {
   "cell_type": "markdown",
   "id": "8b926a8f",
   "metadata": {},
   "source": [
    "## Pivoting\n",
    "Having decided which variables' roles are swapped we need to make sure that we obtain a correct new simplex tableau. As noted before a proper simplex tableau can be identified by the basic variable columns featuring a single one and else only zeroes. We apply appropriate matrix manipulations to achieve this target:\n",
    "\n",
    "* Obtaining the 1 is simple as the location is the pivot element. If the pivot element is not 1 we can divide the whole row by the current value and obtain a pivot row with a 1-entry in the pivot column.\n",
    "* The zeroes are subsequently obtained by adding or subtracting the appropriate multiples of the pivot row from the other rows such that the pivot column takes zero values.\n",
    "\n",
    "### Example\n",
    "\n",
    "In our example the pivot element was one so the first step is not necessary. The other steps proceed as follows:\n",
    "\n",
    "* Transform row 1 by subtracting row 3\n",
    "* Transform row 2 by subtracting 2 times row 3\n",
    "* Transform row 4 by adding 3 times row 3\n",
    "\n",
    "|       | $$x_1$$    | $$x_2$$    | $$s_1$$ | $$s_2$$ | $$s_3$$ | b     |\n",
    "|-------|------------|------------|---------|---------|---------|-------|\n",
    "| $$s_1$$ | 0 | 1| 1     | 0     | -1     | 40 |\n",
    "| $$s_2$$ | 0 |1 | 0     | 1     | -2    | 20 |\n",
    "| $$x_1$$ | 1 |0 | 0     | 0    | 1     | 40 |\n",
    "|         | 0    | -2    | 0     | 0     | 3       | 120       |\n",
    "\n",
    "Some remarks on the new tableau:\n",
    "\n",
    "* The new solution is to produce 40 soldiers, have 40 hours of carpentry left over and 20 hours of finishing\n",
    "* The objective value has increased from 0 to 120\n",
    "* The soluton is not optimal, the objective coefficient of the $x_2$ column is still negative $\\rightarrow$ next iteration\n",
    "\n",
    "### Implementation\n",
    "The python implementation leverages some clever numpy calls and is surprisingly compact."
   ]
  },
  {
   "cell_type": "code",
   "execution_count": 75,
   "id": "1151d708",
   "metadata": {},
   "outputs": [],
   "source": [
    "# function to perform a pivot step on a tableau for a given pivot element\n",
    "def pivot_step(tableau, pivot_position):\n",
    "    new_tableau = [[] for eq in tableau]\n",
    "    \n",
    "    i, j = pivot_position\n",
    "    pivot_value = tableau[i][j]\n",
    "    new_tableau[i] = np.array(tableau[i]) / pivot_value\n",
    "    \n",
    "    for eq_i, eq in enumerate(tableau):\n",
    "        if eq_i != i:\n",
    "            multiplier = np.array(new_tableau[i]) * tableau[eq_i][j]\n",
    "            new_tableau[eq_i] = np.array(tableau[eq_i]) - multiplier\n",
    "   \n",
    "    return new_tableau"
   ]
  },
  {
   "cell_type": "code",
   "execution_count": 76,
   "id": "b5957d62",
   "metadata": {},
   "outputs": [
    {
     "data": {
      "text/plain": [
       "[array([ 0.,  1.,  1.,  0., -1., 40.]),\n",
       " array([ 0.,  1.,  0.,  1., -2., 20.]),\n",
       " array([ 1.,  0.,  0.,  0.,  1., 40.]),\n",
       " array([  0.,  -2.,   0.,   0.,   3., 120.])]"
      ]
     },
     "execution_count": 76,
     "metadata": {},
     "output_type": "execute_result"
    }
   ],
   "source": [
    "tableau = to_tableau(c, A, b)\n",
    "pivot_step(tableau, get_pivot_position(tableau))"
   ]
  },
  {
   "cell_type": "markdown",
   "id": "b50b9955",
   "metadata": {},
   "source": [
    "## Putting it all together\n",
    "We have now all the elements together and can instantiate the control flow illustrated above. Clearly, for manual calculation frequent pivoting can become fairly tedious. But the python program is super straightforward: Leveraging the *can_be_improved* function we can keep identifying the next pivot element and perform the pivot operations subsequently. For illustration purposes we first look at a verbose function which reports in-between tableaus and stops on the final tableau:"
   ]
  },
  {
   "cell_type": "code",
   "execution_count": 91,
   "id": "15a2ba21",
   "metadata": {},
   "outputs": [],
   "source": [
    "# simplex algorithm with intermediate results and pivot elements\n",
    "def simplexVerbose(c, A, b):\n",
    "    tableau = to_tableau(c, A, b)\n",
    "    for i in tableau:\n",
    "        print(i)\n",
    "        \n",
    "    while can_be_improved(tableau):\n",
    "        print(\" \")\n",
    "        pivot_position = get_pivot_position(tableau)\n",
    "        print(pivot_position)\n",
    "        print(\" \")\n",
    "        tableau = pivot_step(tableau, pivot_position)\n",
    "        for i in tableau:\n",
    "            print(i)"
   ]
  },
  {
   "cell_type": "code",
   "execution_count": 90,
   "id": "eddb85f6",
   "metadata": {},
   "outputs": [
    {
     "name": "stdout",
     "output_type": "stream",
     "text": [
      "[1, 1, 1, 0, 0, 80]\n",
      "[2, 1, 0, 1, 0, 100]\n",
      "[1, 0, 0, 0, 1, 40]\n",
      "[-3, -2, 0, 0, 0, 0]\n",
      " \n",
      "(2, 0)\n",
      " \n",
      "[ 0.  1.  1.  0. -1. 40.]\n",
      "[ 0.  1.  0.  1. -2. 20.]\n",
      "[ 1.  0.  0.  0.  1. 40.]\n",
      "[  0.  -2.   0.   0.   3. 120.]\n",
      " \n",
      "(1, 1)\n",
      " \n",
      "[ 0.  0.  1. -1.  1. 20.]\n",
      "[ 0.  1.  0.  1. -2. 20.]\n",
      "[ 1.  0.  0.  0.  1. 40.]\n",
      "[  0.   0.   0.   2.  -1. 160.]\n",
      " \n",
      "(0, 4)\n",
      " \n",
      "[ 0.  0.  1. -1.  1. 20.]\n",
      "[ 0.  1.  2. -1.  0. 60.]\n",
      "[ 1.  0. -1.  1.  0. 20.]\n",
      "[  0.   0.   1.   1.   0. 180.]\n"
     ]
    }
   ],
   "source": [
    "simplexVerbose(c, A, b)"
   ]
  },
  {
   "cell_type": "markdown",
   "id": "a690d0a4",
   "metadata": {},
   "source": [
    "After three iterations we obtain the final tableau which can no longer be improved (everything positive in the bottom row). Note that in this condesed Python representation we can no longer directly see the labels of the rows. However, by looking at the columns with only zeroes and one 1 we can re-identify the basic variables and obtain the following rich representation of the final tableau:\n",
    "\n",
    "|       | $$x_1$$    | $$x_2$$    | $$s_1$$ | $$s_2$$ | $$s_3$$ | b     |\n",
    "|-------|------------|------------|---------|---------|---------|-------|\n",
    "| $$s_3$$ | 0 | 0| 1     | -1     | 1     | 20 |\n",
    "| $$x_2$$ | 0 |1 | 2     | -1     | 0    | 60 |\n",
    "| $$x_1$$ | 1 |0 | -1     | 1    | 0     | 20 |\n",
    "|         | 0    | 0    | 1     | 1     | 0       | 180       |\n",
    "\n",
    "We can make the following interpretations:\n",
    "\n",
    "* The optimal objective value is 180\n",
    "* In optimum we produce 60 toy trains and 20 soldiers (both basic variables)\n",
    "* The maximum soldier allowance is not binding and there is a positive slack of 20 which means $s_3$ is not basic.\n",
    "\n",
    "Below is a purely result-focused implementation of the simplex algorithm. To use it more informatively it is sidelined by a get solution function which provides a proper representation of the result."
   ]
  },
  {
   "cell_type": "code",
   "execution_count": 93,
   "id": "ea7a137a",
   "metadata": {},
   "outputs": [],
   "source": [
    "# helper to identify basic columns\n",
    "def is_basic(column):\n",
    "    return sum(column) == 1 and len([c for c in column if c == 0]) == len(column) - 1\n",
    "\n",
    "# helper to retrieve solution from tableau\n",
    "def get_solution(tableau):\n",
    "    columns = np.array(tableau).T\n",
    "    solutions = []\n",
    "    for column in columns[:-1]:\n",
    "        solution = 0\n",
    "        if is_basic(column):\n",
    "            one_index = column.tolist().index(1)\n",
    "            solution = columns[-1][one_index]\n",
    "        solutions.append(solution)\n",
    "        \n",
    "    return solutions"
   ]
  },
  {
   "cell_type": "code",
   "execution_count": 92,
   "id": "441672f6",
   "metadata": {},
   "outputs": [],
   "source": [
    "# simplex algorithm only providing final solution\n",
    "def simplex(c, A, b):\n",
    "    tableau = to_tableau(c, A, b)\n",
    "\n",
    "    while can_be_improved(tableau):\n",
    "        pivot_position = get_pivot_position(tableau)\n",
    "        tableau = pivot_step(tableau, pivot_position)\n",
    "\n",
    "    return get_solution(tableau)"
   ]
  },
  {
   "cell_type": "code",
   "execution_count": 94,
   "id": "7f442d3a",
   "metadata": {},
   "outputs": [
    {
     "data": {
      "text/plain": [
       "[20.0, 60.0, 0, 0, 20.0]"
      ]
     },
     "execution_count": 94,
     "metadata": {},
     "output_type": "execute_result"
    }
   ],
   "source": [
    "simplex(c, A, b)"
   ]
  },
  {
   "cell_type": "code",
   "execution_count": 9,
   "id": "d336acf1",
   "metadata": {},
   "outputs": [],
   "source": [
    "def get_objective_function_value(tableau):\n",
    "    return -tableau[-1][-1]"
   ]
  },
  {
   "cell_type": "code",
   "execution_count": 16,
   "id": "cf40d7ec",
   "metadata": {},
   "outputs": [],
   "source": [
    "def simplex_with_visualization(c, A, b, halfspaces, feasible_point):\n",
    "    tableau = to_tableau(c, A, b)\n",
    "\n",
    "    zs = [get_objective_function_value(tableau)]\n",
    "    solutions = [get_solution(tableau)]\n",
    "    while can_be_improved(tableau):\n",
    "        pivot_position = get_pivot_position(tableau)\n",
    "        tableau = pivot_step(tableau, pivot_position)\n",
    "        solutions.append(get_solution(tableau))\n",
    "        zs.append(get_objective_function_value(tableau))\n",
    "    \n",
    "    points = [v[:2] for v in solutions]\n",
    "    xlim = (-1, 2*max([p[0] for p in points]) + 1)\n",
    "    ylim = (-1, 2*max([p[1] for p in points]) + 1)\n",
    "    render_inequalities(halfspaces, feasible_point, xlim, ylim)\n",
    "\n",
    "    i=1\n",
    "    for start, end in zip(points[:-1], points[1:]):\n",
    "        \n",
    "\n",
    "\n",
    "  \n",
    "        dx = end[0] - start[0]\n",
    "        dy = end[1] - start[1]\n",
    "        if dx >= 0 and dy >= 0:\n",
    "            plt.arrow(\n",
    "                start[0],\n",
    "                start[1],\n",
    "                dx,\n",
    "                dy,\n",
    "                width=0.1,\n",
    "                length_includes_head=True,\n",
    "                color='#1abc9c'\n",
    "            )\n",
    "            \n",
    "    \n",
    "    for p in points:\n",
    "        plt.plot(p[0],p[1], 'o', color=\"#e67e22\")\n",
    "        plt.text(p[0],p[1], str(i), fontsize=20)\n",
    "        i = i+1\n",
    "\n",
    "\n",
    "            \n",
    "            \n",
    "    plt.show()\n",
    "    \n",
    "    steps = range(len(zs))\n",
    "    plt.plot(steps, zs, color=\"#AA0000\")\n",
    "    plt.xticks(steps)\n",
    "    plt.xlabel('iterations')\n",
    "    plt.ylabel('objective function value')\n",
    "    \n",
    "    \n",
    "    return get_solution(tableau)\n"
   ]
  },
  {
   "cell_type": "code",
   "execution_count": 20,
   "id": "2a0fd714",
   "metadata": {},
   "outputs": [],
   "source": [
    "from scipy.spatial import HalfspaceIntersection, ConvexHull\n",
    "import matplotlib.pyplot as plt\n",
    "from matplotlib.patches import Polygon\n",
    "import numpy as np\n",
    "\n",
    "def render_inequalities(halfspaces, feasible_point, xlim, ylim):\n",
    "    hs = HalfspaceIntersection(np.array(halfspaces), np.array(feasible_point))\n",
    "    fig = plt.figure()\n",
    "    ax = fig.add_subplot(1,1,1, aspect='equal')\n",
    "    ax.set_xlim(xlim)\n",
    "    ax.set_ylim(ylim)\n",
    "\n",
    "    x = np.linspace(*xlim, 40)\n",
    "\n",
    "    for h in halfspaces:\n",
    "        if h[1]== 0:\n",
    "            ax.axvline(-h[2]/h[0], color=\"#2c3e50\")\n",
    "        else:\n",
    "            ax.plot(x, (-h[2]-h[0]*x)/h[1], color=\"#2c3e50\")\n",
    "    x, y = zip(*hs.intersections)\n",
    "    points = list(zip(x, y))\n",
    "    convex_hull = ConvexHull(points)\n",
    "    polygon = Polygon([points[v] for v in convex_hull.vertices], color=\"#34495e\")\n",
    "    ax.add_patch(polygon)\n",
    "\n",
    "    #ax.plot(x, y, 'o', color=\"#e67e22\")"
   ]
  },
  {
   "cell_type": "code",
   "execution_count": 21,
   "id": "5e0f6fdd",
   "metadata": {},
   "outputs": [
    {
     "data": {
      "image/png": "[encoded data removed]",
      "text/plain": [
       "<Figure size 720x720 with 1 Axes>"
      ]
     },
     "metadata": {
      "needs_background": "light"
     },
     "output_type": "display_data"
    },
    {
     "data": {
      "text/plain": [
       "[20.0, 60.0, 0, 0, 20.0]"
      ]
     },
     "execution_count": 21,
     "metadata": {},
     "output_type": "execute_result"
    },
    {
     "data": {
      "image/png": "[encoded data removed]",
      "text/plain": [
       "<Figure size 720x720 with 1 Axes>"
      ]
     },
     "metadata": {
      "needs_background": "light"
     },
     "output_type": "display_data"
    }
   ],
   "source": [
    "plt.rcParams[\"figure.figsize\"] = (10,10)\n",
    "\n",
    "halfspaces = [\n",
    "    [-1, 0., 0.],    # x₁ ≥ 0\n",
    "    [0., -1., 0.],   # x₂ ≥ 0\n",
    "    [1, 1, -80.], # 4x₂ - x₁ ≤ 13\n",
    "    [2., 1., -100.],   # x₂ + 2x₁ ≤ 10\n",
    "    [1., 0., -40.]   # x₂ + 2x₁ ≤ 10\n",
    "]\n",
    "\n",
    "feasible_point = [0.5, 0.5]\n",
    "\n",
    "xlim = (-1, 100)\n",
    "ylim = (-1, 100)\n",
    "\n",
    "simplex_with_visualization(c,A,b,halfspaces, feasible_point)"
   ]
  }
 ],
 "metadata": {
  "kernelspec": {
   "display_name": "Python 3",
   "language": "python",
   "name": "python3"
  },
  "language_info": {
   "codemirror_mode": {
    "name": "ipython",
    "version": 3
   },
   "file_extension": ".py",
   "mimetype": "text/x-python",
   "name": "python",
   "nbconvert_exporter": "python",
   "pygments_lexer": "ipython3",
   "version": "3.8.8"
  }
 },
 "nbformat": 4,
 "nbformat_minor": 5
}
