{
 "cells": [
  {
   "cell_type": "markdown",
   "id": "c22335cf",
   "metadata": {},
   "source": [
    "# Simplex Algorithm"
   ]
  },
  {
   "cell_type": "markdown",
   "id": "58e0f029",
   "metadata": {},
   "source": [
    "## Introduction\n",
    "\n",
    "> “The simplex method is a method for solving problems in linear programming. This method, invented by George Dantzig in 1947, tests adjacent vertices of the feasible set (which is a polytope) in sequence so that at each new vertex the objective function improves or is unchanged.” (Wolfram MathWorld)"
   ]
  },
  {
   "cell_type": "markdown",
   "id": "2d0adc88",
   "metadata": {},
   "source": [
    "The underlying observation is that our linear program bears some resemblance with a linear equation system:\n",
    "\n",
    "$\\mathbf{x} \\leq \\mathbf{b} \\leftrightarrow \\mathbf{x} +  \\mathbf{s} =  \\mathbf{b} \\text{ with }  \\mathbf{s} \\geq 0$"
   ]
  },
  {
   "cell_type": "markdown",
   "id": "dfc5e30b",
   "metadata": {},
   "source": [
    "If there are n+m variables in a system of m equations (where n>m),\n",
    "by setting n variables to zero we can use the remaining m variables and solve the equations."
   ]
  },
  {
   "cell_type": "markdown",
   "id": "f5f0c0c1",
   "metadata": {},
   "source": [
    "### Basic Solution\n",
    "For LP problems in normal form with 𝑚 linear inequalities with 𝑛 variables a basic solution is obtained by setting any 𝑛  of the 𝑛+𝑚 variables to zero and solving for the remaining 𝑚 variables\n",
    "the 𝑚 non-zero variables are called _basic variables_ the remaining 𝑛 zero-valued variables are called _non-basic variables_.\n",
    "\n",
    "**In our toy factory example:**\n",
    "Heuristic solution: 40 soldiers, 20 trains, 20 units of carpenting leftover (0 leftover finishing, 0 leftover production allowance for soldiers)\n",
    "\n",
    "Other variants:\n",
    "No leftover carpenting, no leftover finishing\n",
    "\n",
    "No leftover carpenting, no leftover allowance\n",
    "\n",
    "Produce nothing\n",
    "\n",
    "produce no soldiers with no carpenting left\n",
    "\n",
    "produce no soldiers with no finishing left\n",
    "\n",
    "produce no soldiers with no maxsoldiers left\n",
    "produce no trains with no finishing left\n",
    "produce no trains with no carpenting left\n",
    "produce no trains with no maxsoldiers left …\n",
    "\n"
   ]
  },
  {
   "cell_type": "code",
   "execution_count": 4,
   "id": "441672f6",
   "metadata": {},
   "outputs": [],
   "source": [
    "def simplex(c, A, b):\n",
    "    tableau = to_tableau(c, A, b)\n",
    "\n",
    "    while can_be_improved(tableau):\n",
    "        pivot_position = get_pivot_position(tableau)\n",
    "        tableau = pivot_step(tableau, pivot_position)\n",
    "\n",
    "    return get_solution(tableau)"
   ]
  },
  {
   "cell_type": "code",
   "execution_count": 1,
   "id": "284f5958",
   "metadata": {},
   "outputs": [],
   "source": [
    "def to_tableau(c, A, b):\n",
    "    xb = [eq + [x] for eq, x in zip(A, b)]\n",
    "    z = c + [0]\n",
    "    return xb + [z]"
   ]
  },
  {
   "cell_type": "code",
   "execution_count": null,
   "id": "40ba946e",
   "metadata": {},
   "outputs": [],
   "source": [
    "def can_be_improved(tableau):\n",
    "    z = tableau[-1]\n",
    "    return any(x > 0 for x in z[:-1])\n",
    "    restrictions = []\n",
    "    for eq in tableau[:-1]:\n",
    "        el = eq[column]\n",
    "        restrictions.append(math.inf if el <= 0 else eq[-1] / el)\n",
    "\n",
    "    row = restrictions.index(min(restrictions))\n",
    "    return row, column\n"
   ]
  },
  {
   "cell_type": "code",
   "execution_count": null,
   "id": "f536549f",
   "metadata": {},
   "outputs": [],
   "source": [
    "import math\n",
    "\n",
    "def get_pivot_position(tableau):\n",
    "    z = tableau[-1]\n",
    "    column = next(i for i, x in enumerate(z[:-1]) if x > 0)\n",
    "    \n",
    "    restrictions = []\n",
    "    for eq in tableau[:-1]:\n",
    "        el = eq[column]\n",
    "        restrictions.append(math.inf if el <= 0 else eq[-1] / el)\n",
    "\n",
    "    row = restrictions.index(min(restrictions))\n",
    "    return row, column\n"
   ]
  },
  {
   "cell_type": "code",
   "execution_count": null,
   "id": "1151d708",
   "metadata": {},
   "outputs": [],
   "source": [
    "import numpy as np\n",
    "\n",
    "def pivot_step(tableau, pivot_position):\n",
    "    new_tableau = [[] for eq in tableau]\n",
    "    \n",
    "    i, j = pivot_position\n",
    "    pivot_value = tableau[i][j]\n",
    "    new_tableau[i] = np.array(tableau[i]) / pivot_value\n",
    "    \n",
    "    for eq_i, eq in enumerate(tableau):\n",
    "        if eq_i != i:\n",
    "            multiplier = np.array(new_tableau[i]) * tableau[eq_i][j]\n",
    "            new_tableau[eq_i] = np.array(tableau[eq_i]) - multiplier\n",
    "   \n",
    "    return new_tableau\n"
   ]
  },
  {
   "cell_type": "code",
   "execution_count": null,
   "id": "ea7a137a",
   "metadata": {},
   "outputs": [],
   "source": [
    "def is_basic(column):\n",
    "    return sum(column) == 1 and len([c for c in column if c == 0]) == len(column) - 1\n",
    "\n",
    "def get_solution(tableau):\n",
    "    columns = np.array(tableau).T\n",
    "    solutions = []\n",
    "    for column in columns[:-1]:\n",
    "        solution = 0\n",
    "        if is_basic(column):\n",
    "            one_index = column.tolist().index(1)\n",
    "            solution = columns[-1][one_index]\n",
    "        solutions.append(solution)\n",
    "        \n",
    "    return solutions\n"
   ]
  },
  {
   "cell_type": "code",
   "execution_count": null,
   "id": "c8001da1",
   "metadata": {},
   "outputs": [],
   "source": [
    "c = [3,2,0,0,0]\n",
    "A = [\n",
    "    [1, 1,1,0,0],\n",
    "    [ 2, 1,0,1,0],\n",
    "    [ 1,0,0,0,1]\n",
    "]\n",
    "b = [80,100,40]\n"
   ]
  },
  {
   "cell_type": "code",
   "execution_count": null,
   "id": "7f442d3a",
   "metadata": {},
   "outputs": [],
   "source": [
    "solution = simplex(c, A, b)\n",
    "print('solution: ', solution)"
   ]
  }
 ],
 "metadata": {
  "kernelspec": {
   "display_name": "Python 3",
   "language": "python",
   "name": "python3"
  },
  "language_info": {
   "codemirror_mode": {
    "name": "ipython",
    "version": 3
   },
   "file_extension": ".py",
   "mimetype": "text/x-python",
   "name": "python",
   "nbconvert_exporter": "python",
   "pygments_lexer": "ipython3",
   "version": "3.8.8"
  }
 },
 "nbformat": 4,
 "nbformat_minor": 5
}
