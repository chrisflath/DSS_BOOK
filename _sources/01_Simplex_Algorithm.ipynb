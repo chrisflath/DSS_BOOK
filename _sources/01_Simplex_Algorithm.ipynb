{
 "cells": [
  {
   "cell_type": "markdown",
   "id": "c22335cf",
   "metadata": {},
   "source": [
    "# Simplex Algorithm"
   ]
  },
  {
   "cell_type": "markdown",
   "id": "58e0f029",
   "metadata": {},
   "source": [
    "## Introduction\n",
    "\n",
    "> “The simplex method is a method for solving problems in linear programming. This method, invented by George Dantzig in 1947, tests adjacent vertices of the feasible set (which is a polytope) in sequence so that at each new vertex the objective function improves or is unchanged.” (Wolfram MathWorld)"
   ]
  },
  {
   "cell_type": "markdown",
   "id": "2d0adc88",
   "metadata": {},
   "source": [
    "The underlying observation is that our linear program bears some resemblance with a linear equation system:\n",
    "\n",
    "$\\mathbf{x} \\leq \\mathbf{b} \\leftrightarrow \\mathbf{x} +  \\mathbf{s} =  \\mathbf{b} \\text{ with }  \\mathbf{s} \\geq 0$"
   ]
  },
  {
   "cell_type": "markdown",
   "id": "dfc5e30b",
   "metadata": {},
   "source": [
    "If there are n+m variables in a system of m equations (where n>m),\n",
    "by setting n variables to zero we can use the remaining m variables and solve the equations."
   ]
  },
  {
   "cell_type": "markdown",
   "id": "f5f0c0c1",
   "metadata": {},
   "source": [
    "### Basic Solution\n",
    "For LP problems in normal form with 𝑚 linear inequalities with 𝑛 variables a basic solution is obtained by setting any 𝑛  of the 𝑛+𝑚 variables to zero and solving for the remaining 𝑚 variables\n",
    "the 𝑚 non-zero variables are called _basic variables_ the remaining 𝑛 zero-valued variables are called _non-basic variables_.\n",
    "\n",
    "**In our toy factory example:**\n",
    "Heuristic solution: 40 soldiers, 20 trains, 20 units of carpenting leftover (0 leftover finishing, 0 leftover production allowance for soldiers)\n",
    "\n",
    "Other variants:\n",
    "No leftover carpenting, no leftover finishing\n",
    "\n",
    "No leftover carpenting, no leftover allowance\n",
    "\n",
    "Produce nothing\n",
    "\n",
    "produce no soldiers with no carpenting left\n",
    "\n",
    "produce no soldiers with no finishing left\n",
    "\n",
    "produce no soldiers with no maxsoldiers left\n",
    "produce no trains with no finishing left\n",
    "produce no trains with no carpenting left\n",
    "produce no trains with no maxsoldiers left …\n",
    "\n"
   ]
  },
  {
   "cell_type": "code",
   "execution_count": 3,
   "id": "441672f6",
   "metadata": {},
   "outputs": [],
   "source": [
    "def simplex(c, A, b):\n",
    "    tableau = to_tableau(c, A, b)\n",
    "\n",
    "    while can_be_improved(tableau):\n",
    "        pivot_position = get_pivot_position(tableau)\n",
    "        tableau = pivot_step(tableau, pivot_position)\n",
    "\n",
    "    return get_solution(tableau)"
   ]
  },
  {
   "cell_type": "code",
   "execution_count": 4,
   "id": "284f5958",
   "metadata": {},
   "outputs": [],
   "source": [
    "def to_tableau(c, A, b):\n",
    "    xb = [eq + [x] for eq, x in zip(A, b)]\n",
    "    z = c + [0]\n",
    "    return xb + [z]"
   ]
  },
  {
   "cell_type": "code",
   "execution_count": 5,
   "id": "40ba946e",
   "metadata": {},
   "outputs": [],
   "source": [
    "def can_be_improved(tableau):\n",
    "    z = tableau[-1]\n",
    "    return any(x > 0 for x in z[:-1])\n",
    "    restrictions = []\n",
    "    for eq in tableau[:-1]:\n",
    "        el = eq[column]\n",
    "        restrictions.append(math.inf if el <= 0 else eq[-1] / el)\n",
    "\n",
    "    row = restrictions.index(min(restrictions))\n",
    "    return row, column\n"
   ]
  },
  {
   "cell_type": "code",
   "execution_count": 6,
   "id": "f536549f",
   "metadata": {},
   "outputs": [],
   "source": [
    "import math\n",
    "\n",
    "def get_pivot_position(tableau):\n",
    "    z = tableau[-1]\n",
    "    column = next(i for i, x in enumerate(z[:-1]) if x > 0)\n",
    "    \n",
    "    restrictions = []\n",
    "    for eq in tableau[:-1]:\n",
    "        el = eq[column]\n",
    "        restrictions.append(math.inf if el <= 0 else eq[-1] / el)\n",
    "\n",
    "    row = restrictions.index(min(restrictions))\n",
    "    return row, column\n"
   ]
  },
  {
   "cell_type": "code",
   "execution_count": 7,
   "id": "1151d708",
   "metadata": {},
   "outputs": [],
   "source": [
    "import numpy as np\n",
    "\n",
    "def pivot_step(tableau, pivot_position):\n",
    "    new_tableau = [[] for eq in tableau]\n",
    "    \n",
    "    i, j = pivot_position\n",
    "    pivot_value = tableau[i][j]\n",
    "    new_tableau[i] = np.array(tableau[i]) / pivot_value\n",
    "    \n",
    "    for eq_i, eq in enumerate(tableau):\n",
    "        if eq_i != i:\n",
    "            multiplier = np.array(new_tableau[i]) * tableau[eq_i][j]\n",
    "            new_tableau[eq_i] = np.array(tableau[eq_i]) - multiplier\n",
    "   \n",
    "    return new_tableau\n"
   ]
  },
  {
   "cell_type": "code",
   "execution_count": 8,
   "id": "ea7a137a",
   "metadata": {},
   "outputs": [],
   "source": [
    "def is_basic(column):\n",
    "    return sum(column) == 1 and len([c for c in column if c == 0]) == len(column) - 1\n",
    "\n",
    "def get_solution(tableau):\n",
    "    columns = np.array(tableau).T\n",
    "    solutions = []\n",
    "    for column in columns[:-1]:\n",
    "        solution = 0\n",
    "        if is_basic(column):\n",
    "            one_index = column.tolist().index(1)\n",
    "            solution = columns[-1][one_index]\n",
    "        solutions.append(solution)\n",
    "        \n",
    "    return solutions\n"
   ]
  },
  {
   "cell_type": "code",
   "execution_count": 9,
   "id": "c8001da1",
   "metadata": {},
   "outputs": [],
   "source": [
    "c = [3,2,0,0,0]\n",
    "A = [\n",
    "    [1, 1,1,0,0],\n",
    "    [ 2, 1,0,1,0],\n",
    "    [ 1,0,0,0,1]\n",
    "]\n",
    "b = [80,100,40]\n"
   ]
  },
  {
   "cell_type": "code",
   "execution_count": 10,
   "id": "7f442d3a",
   "metadata": {},
   "outputs": [
    {
     "name": "stdout",
     "output_type": "stream",
     "text": [
      "solution:  [20.0, 60.0, 0, 0, 20.0]\n"
     ]
    }
   ],
   "source": [
    "solution = simplex(c, A, b)\n",
    "print('solution: ', solution)"
   ]
  },
  {
   "cell_type": "code",
   "execution_count": 56,
   "id": "40a3d267",
   "metadata": {},
   "outputs": [],
   "source": [
    "def get_objective_function_value(tableau):\n",
    "    return -tableau[-1][-1]"
   ]
  },
  {
   "cell_type": "code",
   "execution_count": 77,
   "id": "3fb6fd1e",
   "metadata": {},
   "outputs": [],
   "source": [
    "def simplex_with_visualization(c, A, b, halfspaces, feasible_point):\n",
    "    tableau = to_tableau(c, A, b)\n",
    "\n",
    "    zs = [get_objective_function_value(tableau)]\n",
    "    solutions = [get_solution(tableau)]\n",
    "    while can_be_improved(tableau):\n",
    "        pivot_position = get_pivot_position(tableau)\n",
    "        tableau = pivot_step(tableau, pivot_position)\n",
    "        solutions.append(get_solution(tableau))\n",
    "        zs.append(get_objective_function_value(tableau))\n",
    "    \n",
    "    points = [v[:2] for v in solutions]\n",
    "    xlim = (-1, 2*max([p[0] for p in points]) + 1)\n",
    "    ylim = (-1, 2*max([p[1] for p in points]) + 1)\n",
    "    render_inequalities(halfspaces, feasible_point, xlim, ylim)\n",
    "\n",
    "    for start, end in zip(points[:-1], points[1:]):\n",
    "        dx = end[0] - start[0]\n",
    "        dy = end[1] - start[1]\n",
    "        if dx >= 0 and dy >= 0:\n",
    "            plt.arrow(\n",
    "                start[0],\n",
    "                start[1],\n",
    "                dx,\n",
    "                dy,\n",
    "                width=0.1,\n",
    "                length_includes_head=True,\n",
    "                color='#1abc9c'\n",
    "            )\n",
    "    plt.show()\n",
    "    \n",
    "    steps = range(len(zs))\n",
    "    plt.plot(steps, zs, color=\"#2c3e50\")\n",
    "    plt.xticks(steps)\n",
    "    plt.xlabel('iterations')\n",
    "    plt.ylabel('objective function value')\n",
    "    \n",
    "    print(solutions)\n",
    "    \n",
    "    return get_solution(tableau)\n"
   ]
  },
  {
   "cell_type": "code",
   "execution_count": 72,
   "id": "adc3fe1a",
   "metadata": {},
   "outputs": [],
   "source": [
    "from scipy.spatial import HalfspaceIntersection, ConvexHull\n",
    "import matplotlib.pyplot as plt\n",
    "from matplotlib.patches import Polygon\n",
    "import numpy as np\n",
    "\n",
    "def render_inequalities(halfspaces, feasible_point, xlim, ylim):\n",
    "    hs = HalfspaceIntersection(np.array(halfspaces), np.array(feasible_point))\n",
    "    fig = plt.figure()\n",
    "    ax = fig.add_subplot('111', aspect='equal')\n",
    "    ax.set_xlim(xlim)\n",
    "    ax.set_ylim(ylim)\n",
    "\n",
    "    x = np.linspace(*xlim, 40)\n",
    "\n",
    "    for h in halfspaces:\n",
    "        if h[1]== 0:\n",
    "            ax.axvline(-h[2]/h[0], color=\"#2c3e50\")\n",
    "        else:\n",
    "            ax.plot(x, (-h[2]-h[0]*x)/h[1], color=\"#2c3e50\")\n",
    "    x, y = zip(*hs.intersections)\n",
    "    points = list(zip(x, y))\n",
    "    convex_hull = ConvexHull(points)\n",
    "    polygon = Polygon([points[v] for v in convex_hull.vertices], color=\"#34495e\")\n",
    "    ax.add_patch(polygon)\n",
    "    ax.plot(x, y, 'o', color=\"#e67e22\")"
   ]
  },
  {
   "cell_type": "code",
   "execution_count": 78,
   "id": "91dbcd23",
   "metadata": {},
   "outputs": [
    {
     "name": "stderr",
     "output_type": "stream",
     "text": [
      "<ipython-input-72-6c816303c502>:9: MatplotlibDeprecationWarning: Passing non-integers as three-element position specification is deprecated since 3.3 and will be removed two minor releases later.\n",
      "  ax = fig.add_subplot('111', aspect='equal')\n"
     ]
    },
    {
     "data": {
      "image/png": "[encoded data removed]",
      "text/plain": [
       "<Figure size 720x720 with 1 Axes>"
      ]
     },
     "metadata": {
      "needs_background": "light"
     },
     "output_type": "display_data"
    },
    {
     "name": "stdout",
     "output_type": "stream",
     "text": [
      "[[0, 0, 80, 100, 40], [40.0, 0, 40.0, 20.0, 0], [40.0, 20.0, 20.0, 0, 0], [20.0, 60.0, 0, 0, 20.0]]\n"
     ]
    },
    {
     "data": {
      "text/plain": [
       "[20.0, 60.0, 0, 0, 20.0]"
      ]
     },
     "execution_count": 78,
     "metadata": {},
     "output_type": "execute_result"
    },
    {
     "data": {
      "image/png": "[encoded data removed]",
      "text/plain": [
       "<Figure size 720x720 with 1 Axes>"
      ]
     },
     "metadata": {
      "needs_background": "light"
     },
     "output_type": "display_data"
    }
   ],
   "source": [
    "plt.rcParams[\"figure.figsize\"] = (10,10)\n",
    "\n",
    "halfspaces = [\n",
    "    [-1, 0., 0.],    # x₁ ≥ 0\n",
    "    [0., -1., 0.],   # x₂ ≥ 0\n",
    "    [1, 1, -80.], # 4x₂ - x₁ ≤ 13\n",
    "    [2., 1., -100.],   # x₂ + 2x₁ ≤ 10\n",
    "    [1., 0., -40.]   # x₂ + 2x₁ ≤ 10\n",
    "]\n",
    "\n",
    "feasible_point = [0.5, 0.5]\n",
    "\n",
    "xlim = (-1, 100)\n",
    "ylim = (-1, 100)\n",
    "\n",
    "simplex_with_visualization(c,A,b,halfspaces, feasible_point)"
   ]
  },
  {
   "cell_type": "code",
   "execution_count": 63,
   "id": "5e32fa47",
   "metadata": {},
   "outputs": [
    {
     "name": "stderr",
     "output_type": "stream",
     "text": [
      "<ipython-input-61-6c816303c502>:9: MatplotlibDeprecationWarning: Passing non-integers as three-element position specification is deprecated since 3.3 and will be removed two minor releases later.\n",
      "  ax = fig.add_subplot('111', aspect='equal')\n"
     ]
    },
    {
     "data": {
      "image/png": "[encoded data removed]",
      "text/plain": [
       "<Figure size 432x288 with 1 Axes>"
      ]
     },
     "metadata": {
      "needs_background": "light"
     },
     "output_type": "display_data"
    },
    {
     "data": {
      "text/plain": [
       "[20.0, 60.0, 0, 0, 20.0]"
      ]
     },
     "execution_count": 63,
     "metadata": {},
     "output_type": "execute_result"
    },
    {
     "data": {
      "image/png": "[encoded data removed]",
      "text/plain": [
       "<Figure size 432x288 with 1 Axes>"
      ]
     },
     "metadata": {
      "needs_background": "light"
     },
     "output_type": "display_data"
    }
   ],
   "source": [
    "halfspaces = [\n",
    "    [-1, 0., 0.],    # x₁ ≥ 0\n",
    "    [0., -1., 0.],   # x₂ ≥ 0\n",
    "    [1, 1, -80.], # 4x₂ - x₁ ≤ 13\n",
    "    [2., 1., -100.],   # x₂ + 2x₁ ≤ 10\n",
    "    [1., 0., -40.]   # x₂ + 2x₁ ≤ 10\n",
    "]\n",
    "\n",
    "feasible_point = [0.5, 0.5]\n",
    "\n",
    "xlim = (-1, 100)\n",
    "ylim = (-1, 100)\n",
    "\n",
    "\n",
    "simplex_with_visualization(c,A,b,halfspaces, feasible_point)"
   ]
  },
  {
   "cell_type": "code",
   "execution_count": null,
   "id": "3547a120",
   "metadata": {},
   "outputs": [],
   "source": []
  }
 ],
 "metadata": {
  "kernelspec": {
   "display_name": "Python 3",
   "language": "python",
   "name": "python3"
  },
  "language_info": {
   "codemirror_mode": {
    "name": "ipython",
    "version": 3
   },
   "file_extension": ".py",
   "mimetype": "text/x-python",
   "name": "python",
   "nbconvert_exporter": "python",
   "pygments_lexer": "ipython3",
   "version": "3.8.8"
  }
 },
 "nbformat": 4,
 "nbformat_minor": 5
}
